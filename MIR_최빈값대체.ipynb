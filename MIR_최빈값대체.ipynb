{
  "nbformat": 4,
  "nbformat_minor": 0,
  "metadata": {
    "colab": {
      "provenance": [],
      "authorship_tag": "ABX9TyN84+PgJnE/C0O2cUyxs4rF",
      "include_colab_link": true
    },
    "kernelspec": {
      "name": "python3",
      "display_name": "Python 3"
    },
    "language_info": {
      "name": "python"
    }
  },
  "cells": [
    {
      "cell_type": "markdown",
      "metadata": {
        "id": "view-in-github",
        "colab_type": "text"
      },
      "source": [
        "<a href=\"https://colab.research.google.com/github/shwoa/Capstone/blob/main/MIR_%EC%B5%9C%EB%B9%88%EA%B0%92%EB%8C%80%EC%B2%B4.ipynb\" target=\"_parent\"><img src=\"https://colab.research.google.com/assets/colab-badge.svg\" alt=\"Open In Colab\"/></a>"
      ]
    },
    {
      "cell_type": "code",
      "execution_count": null,
      "metadata": {
        "colab": {
          "base_uri": "https://localhost:8080/",
          "height": 112
        },
        "id": "zchTxrQTwe57",
        "outputId": "4a6b5ed9-6bcf-41f3-a768-347cfbda7992"
      },
      "outputs": [
        {
          "output_type": "display_data",
          "data": {
            "text/plain": [
              "<IPython.core.display.HTML object>"
            ],
            "text/html": [
              "\n",
              "     <input type=\"file\" id=\"files-36b8cdf0-ca46-4c72-9b9c-f06d9eb736b0\" name=\"files[]\" multiple disabled\n",
              "        style=\"border:none\" />\n",
              "     <output id=\"result-36b8cdf0-ca46-4c72-9b9c-f06d9eb736b0\">\n",
              "      Upload widget is only available when the cell has been executed in the\n",
              "      current browser session. Please rerun this cell to enable.\n",
              "      </output>\n",
              "      <script>// Copyright 2017 Google LLC\n",
              "//\n",
              "// Licensed under the Apache License, Version 2.0 (the \"License\");\n",
              "// you may not use this file except in compliance with the License.\n",
              "// You may obtain a copy of the License at\n",
              "//\n",
              "//      http://www.apache.org/licenses/LICENSE-2.0\n",
              "//\n",
              "// Unless required by applicable law or agreed to in writing, software\n",
              "// distributed under the License is distributed on an \"AS IS\" BASIS,\n",
              "// WITHOUT WARRANTIES OR CONDITIONS OF ANY KIND, either express or implied.\n",
              "// See the License for the specific language governing permissions and\n",
              "// limitations under the License.\n",
              "\n",
              "/**\n",
              " * @fileoverview Helpers for google.colab Python module.\n",
              " */\n",
              "(function(scope) {\n",
              "function span(text, styleAttributes = {}) {\n",
              "  const element = document.createElement('span');\n",
              "  element.textContent = text;\n",
              "  for (const key of Object.keys(styleAttributes)) {\n",
              "    element.style[key] = styleAttributes[key];\n",
              "  }\n",
              "  return element;\n",
              "}\n",
              "\n",
              "// Max number of bytes which will be uploaded at a time.\n",
              "const MAX_PAYLOAD_SIZE = 100 * 1024;\n",
              "\n",
              "function _uploadFiles(inputId, outputId) {\n",
              "  const steps = uploadFilesStep(inputId, outputId);\n",
              "  const outputElement = document.getElementById(outputId);\n",
              "  // Cache steps on the outputElement to make it available for the next call\n",
              "  // to uploadFilesContinue from Python.\n",
              "  outputElement.steps = steps;\n",
              "\n",
              "  return _uploadFilesContinue(outputId);\n",
              "}\n",
              "\n",
              "// This is roughly an async generator (not supported in the browser yet),\n",
              "// where there are multiple asynchronous steps and the Python side is going\n",
              "// to poll for completion of each step.\n",
              "// This uses a Promise to block the python side on completion of each step,\n",
              "// then passes the result of the previous step as the input to the next step.\n",
              "function _uploadFilesContinue(outputId) {\n",
              "  const outputElement = document.getElementById(outputId);\n",
              "  const steps = outputElement.steps;\n",
              "\n",
              "  const next = steps.next(outputElement.lastPromiseValue);\n",
              "  return Promise.resolve(next.value.promise).then((value) => {\n",
              "    // Cache the last promise value to make it available to the next\n",
              "    // step of the generator.\n",
              "    outputElement.lastPromiseValue = value;\n",
              "    return next.value.response;\n",
              "  });\n",
              "}\n",
              "\n",
              "/**\n",
              " * Generator function which is called between each async step of the upload\n",
              " * process.\n",
              " * @param {string} inputId Element ID of the input file picker element.\n",
              " * @param {string} outputId Element ID of the output display.\n",
              " * @return {!Iterable<!Object>} Iterable of next steps.\n",
              " */\n",
              "function* uploadFilesStep(inputId, outputId) {\n",
              "  const inputElement = document.getElementById(inputId);\n",
              "  inputElement.disabled = false;\n",
              "\n",
              "  const outputElement = document.getElementById(outputId);\n",
              "  outputElement.innerHTML = '';\n",
              "\n",
              "  const pickedPromise = new Promise((resolve) => {\n",
              "    inputElement.addEventListener('change', (e) => {\n",
              "      resolve(e.target.files);\n",
              "    });\n",
              "  });\n",
              "\n",
              "  const cancel = document.createElement('button');\n",
              "  inputElement.parentElement.appendChild(cancel);\n",
              "  cancel.textContent = 'Cancel upload';\n",
              "  const cancelPromise = new Promise((resolve) => {\n",
              "    cancel.onclick = () => {\n",
              "      resolve(null);\n",
              "    };\n",
              "  });\n",
              "\n",
              "  // Wait for the user to pick the files.\n",
              "  const files = yield {\n",
              "    promise: Promise.race([pickedPromise, cancelPromise]),\n",
              "    response: {\n",
              "      action: 'starting',\n",
              "    }\n",
              "  };\n",
              "\n",
              "  cancel.remove();\n",
              "\n",
              "  // Disable the input element since further picks are not allowed.\n",
              "  inputElement.disabled = true;\n",
              "\n",
              "  if (!files) {\n",
              "    return {\n",
              "      response: {\n",
              "        action: 'complete',\n",
              "      }\n",
              "    };\n",
              "  }\n",
              "\n",
              "  for (const file of files) {\n",
              "    const li = document.createElement('li');\n",
              "    li.append(span(file.name, {fontWeight: 'bold'}));\n",
              "    li.append(span(\n",
              "        `(${file.type || 'n/a'}) - ${file.size} bytes, ` +\n",
              "        `last modified: ${\n",
              "            file.lastModifiedDate ? file.lastModifiedDate.toLocaleDateString() :\n",
              "                                    'n/a'} - `));\n",
              "    const percent = span('0% done');\n",
              "    li.appendChild(percent);\n",
              "\n",
              "    outputElement.appendChild(li);\n",
              "\n",
              "    const fileDataPromise = new Promise((resolve) => {\n",
              "      const reader = new FileReader();\n",
              "      reader.onload = (e) => {\n",
              "        resolve(e.target.result);\n",
              "      };\n",
              "      reader.readAsArrayBuffer(file);\n",
              "    });\n",
              "    // Wait for the data to be ready.\n",
              "    let fileData = yield {\n",
              "      promise: fileDataPromise,\n",
              "      response: {\n",
              "        action: 'continue',\n",
              "      }\n",
              "    };\n",
              "\n",
              "    // Use a chunked sending to avoid message size limits. See b/62115660.\n",
              "    let position = 0;\n",
              "    do {\n",
              "      const length = Math.min(fileData.byteLength - position, MAX_PAYLOAD_SIZE);\n",
              "      const chunk = new Uint8Array(fileData, position, length);\n",
              "      position += length;\n",
              "\n",
              "      const base64 = btoa(String.fromCharCode.apply(null, chunk));\n",
              "      yield {\n",
              "        response: {\n",
              "          action: 'append',\n",
              "          file: file.name,\n",
              "          data: base64,\n",
              "        },\n",
              "      };\n",
              "\n",
              "      let percentDone = fileData.byteLength === 0 ?\n",
              "          100 :\n",
              "          Math.round((position / fileData.byteLength) * 100);\n",
              "      percent.textContent = `${percentDone}% done`;\n",
              "\n",
              "    } while (position < fileData.byteLength);\n",
              "  }\n",
              "\n",
              "  // All done.\n",
              "  yield {\n",
              "    response: {\n",
              "      action: 'complete',\n",
              "    }\n",
              "  };\n",
              "}\n",
              "\n",
              "scope.google = scope.google || {};\n",
              "scope.google.colab = scope.google.colab || {};\n",
              "scope.google.colab._files = {\n",
              "  _uploadFiles,\n",
              "  _uploadFilesContinue,\n",
              "};\n",
              "})(self);\n",
              "</script> "
            ]
          },
          "metadata": {}
        },
        {
          "output_type": "stream",
          "name": "stdout",
          "text": [
            "Saving 유전형인코딩_최빈값.csv to 유전형인코딩_최빈값.csv\n",
            "Saving 토마토_표현형.CSV to 토마토_표현형.CSV\n"
          ]
        }
      ],
      "source": [
        "from google.colab import files\n",
        "uploaded = files.upload()"
      ]
    },
    {
      "cell_type": "code",
      "source": [
        "import pandas as pd\n",
        "from sklearn.feature_selection import mutual_info_regression\n",
        "\n",
        "# 1. 파일 로드\n",
        "geno_raw = pd.read_csv('유전형인코딩_최빈값.csv', index_col=0)\n",
        "pheno_df = pd.read_csv('토마토_표현형.CSV', index_col=0, encoding='cp949')\n",
        "\n",
        "# 2. 유전형: 전치 후 인덱스 정리\n",
        "geno_df = geno_raw.T\n",
        "geno_df.index = geno_df.index.astype(str)\n",
        "pheno_df.index = pheno_df.index.astype(str)\n",
        "\n",
        "# 3. 공통 샘플만 필터링\n",
        "common_ids = geno_df.index.intersection(pheno_df.index)\n",
        "geno_df = geno_df.loc[common_ids]\n",
        "pheno_df = pheno_df.loc[common_ids]\n",
        "\n",
        "# 4. Mutual Information 계산 후 통합 저장\n",
        "result_rows = []\n",
        "top_n = 7000\n",
        "\n",
        "for trait in pheno_df.columns:\n",
        "    y = pheno_df[trait]\n",
        "    mi_scores = mutual_info_regression(geno_df, y, random_state=42)\n",
        "    mi_series = pd.Series(mi_scores, index=geno_df.columns)\n",
        "    top_snps = mi_series.sort_values(ascending=False).head(top_n)\n",
        "\n",
        "    for snp, score in top_snps.items():\n",
        "        result_rows.append({\n",
        "            \"표현형\": trait,\n",
        "            \"SNP\": snp,\n",
        "            \"Mutual_Info\": score\n",
        "        })\n",
        "\n",
        "# 5. 결과 저장 (현재 디렉토리에 저장)\n",
        "result_df = pd.DataFrame(result_rows)\n",
        "result_df.to_csv(\"MutualInfo_SNP(7000).csv\", index=False)\n",
        "print(\"✅ 저장 완료: MutualInfo_SNP7000결과.csv\")\n"
      ],
      "metadata": {
        "colab": {
          "base_uri": "https://localhost:8080/"
        },
        "id": "hf29IZMEygd5",
        "outputId": "24d43a3e-0e3f-4bed-b31a-d1a8d0c0e2df"
      },
      "execution_count": null,
      "outputs": [
        {
          "output_type": "stream",
          "name": "stdout",
          "text": [
            "✅ 저장 완료: MutualInfo_SNP7000결과.csv\n"
          ]
        }
      ]
    },
    {
      "cell_type": "markdown",
      "source": [
        "mutualinforegression 전체snp"
      ],
      "metadata": {
        "id": "E0j1y5D2YeCp"
      }
    },
    {
      "cell_type": "code",
      "source": [
        "import pandas as pd\n",
        "from sklearn.feature_selection import mutual_info_regression\n",
        "\n",
        "# 1. 파일 로드\n",
        "geno_raw = pd.read_csv('유전형인코딩_최빈값.csv', index_col=0)\n",
        "pheno_df = pd.read_csv('토마토_표현형.CSV', index_col=0, encoding='cp949')\n",
        "\n",
        "# 2. 유전형: 전치 후 인덱스 정리\n",
        "geno_df = geno_raw.T\n",
        "geno_df.index = geno_df.index.astype(str)\n",
        "pheno_df.index = pheno_df.index.astype(str)\n",
        "\n",
        "# 3. 공통 샘플만 필터링\n",
        "common_ids = geno_df.index.intersection(pheno_df.index)\n",
        "geno_df = geno_df.loc[common_ids]\n",
        "pheno_df = pheno_df.loc[common_ids]\n",
        "\n",
        "# 4. Mutual Information 계산 및 저장\n",
        "all_results = []\n",
        "\n",
        "for trait in pheno_df.columns:\n",
        "    y = pheno_df[trait]\n",
        "    mi_scores = mutual_info_regression(geno_df, y, random_state=42)\n",
        "    mi_df = pd.DataFrame({\n",
        "        \"표현형\": trait,\n",
        "        \"SNP\": geno_df.columns,\n",
        "        \"Mutual_Info\": mi_scores\n",
        "    })\n",
        "    all_results.append(mi_df)\n",
        "\n",
        "# 5. 통합 저장\n",
        "final_df = pd.concat(all_results, ignore_index=True)\n",
        "final_df.to_csv(\"MutualInfo_SNP(전체).csv\", index=False)\n",
        "print(\"✅ 저장 완료: MutualInfo_SNP(전체).csv\")\n"
      ],
      "metadata": {
        "id": "TjoWBDVhy7tf",
        "colab": {
          "base_uri": "https://localhost:8080/"
        },
        "outputId": "bcbe9d0b-6321-4dfe-81cf-e9eed00390a7"
      },
      "execution_count": null,
      "outputs": [
        {
          "output_type": "stream",
          "name": "stdout",
          "text": [
            "✅ 저장 완료: MutualInfo_SNP(전체).csv\n"
          ]
        }
      ]
    }
  ]
}